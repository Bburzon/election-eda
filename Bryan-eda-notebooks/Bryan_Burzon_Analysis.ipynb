{
 "cells": [
  {
   "cell_type": "code",
   "execution_count": 51,
   "metadata": {},
   "outputs": [
    {
     "data": {
      "text/html": [
       "<div>\n",
       "<style scoped>\n",
       "    .dataframe tbody tr th:only-of-type {\n",
       "        vertical-align: middle;\n",
       "    }\n",
       "\n",
       "    .dataframe tbody tr th {\n",
       "        vertical-align: top;\n",
       "    }\n",
       "\n",
       "    .dataframe thead th {\n",
       "        text-align: right;\n",
       "    }\n",
       "</style>\n",
       "<table border=\"1\" class=\"dataframe\">\n",
       "  <thead>\n",
       "    <tr style=\"text-align: right;\">\n",
       "      <th></th>\n",
       "      <th>id</th>\n",
       "      <th>wp_identifier</th>\n",
       "      <th>network</th>\n",
       "      <th>location</th>\n",
       "      <th>program</th>\n",
       "      <th>program_type</th>\n",
       "      <th>start_time</th>\n",
       "      <th>end_time</th>\n",
       "      <th>archive_id</th>\n",
       "      <th>embed_url</th>\n",
       "      <th>sponsors</th>\n",
       "      <th>sponsor_types</th>\n",
       "      <th>race</th>\n",
       "      <th>cycle</th>\n",
       "      <th>subjects</th>\n",
       "      <th>candidates</th>\n",
       "      <th>type</th>\n",
       "      <th>message</th>\n",
       "      <th>date_created</th>\n",
       "    </tr>\n",
       "  </thead>\n",
       "  <tbody>\n",
       "    <tr>\n",
       "      <th>0</th>\n",
       "      <td>1</td>\n",
       "      <td>5643</td>\n",
       "      <td>KLAS</td>\n",
       "      <td>Las Vegas, NV</td>\n",
       "      <td>8 News Now at 5 PM</td>\n",
       "      <td>news</td>\n",
       "      <td>2016-09-09 00:12:59 UTC</td>\n",
       "      <td>2016-09-09 00:13:29 UTC</td>\n",
       "      <td>PolAd_HillaryClinton_f1h3j</td>\n",
       "      <td>https://archive.org/embed/PolAd_HillaryClinton...</td>\n",
       "      <td>Hillary for America</td>\n",
       "      <td>Multiple</td>\n",
       "      <td>PRES</td>\n",
       "      <td>2016.0</td>\n",
       "      <td>Energy, China, Jobs</td>\n",
       "      <td>Hillary Clinton</td>\n",
       "      <td>campaign</td>\n",
       "      <td>pro</td>\n",
       "      <td>2016-09-12 14:49:32</td>\n",
       "    </tr>\n",
       "    <tr>\n",
       "      <th>1</th>\n",
       "      <td>2</td>\n",
       "      <td>5643</td>\n",
       "      <td>WNCN</td>\n",
       "      <td>Raleigh-Durham-Fayetteville,  NC</td>\n",
       "      <td>North Carolina News at 500PM</td>\n",
       "      <td>news</td>\n",
       "      <td>2016-09-06 21:58:25 UTC</td>\n",
       "      <td>2016-09-06 21:58:55 UTC</td>\n",
       "      <td>PolAd_HillaryClinton_f1h3j</td>\n",
       "      <td>https://archive.org/embed/PolAd_HillaryClinton...</td>\n",
       "      <td>Hillary for America</td>\n",
       "      <td>Multiple</td>\n",
       "      <td>PRES</td>\n",
       "      <td>2016.0</td>\n",
       "      <td>Energy, China, Jobs</td>\n",
       "      <td>Hillary Clinton</td>\n",
       "      <td>campaign</td>\n",
       "      <td>pro</td>\n",
       "      <td>2016-09-12 14:49:32</td>\n",
       "    </tr>\n",
       "    <tr>\n",
       "      <th>2</th>\n",
       "      <td>3</td>\n",
       "      <td>5643</td>\n",
       "      <td>KLAS</td>\n",
       "      <td>Las Vegas, NV</td>\n",
       "      <td>Face the Nation</td>\n",
       "      <td>news</td>\n",
       "      <td>2016-09-04 16:24:25 UTC</td>\n",
       "      <td>2016-09-04 16:24:55 UTC</td>\n",
       "      <td>PolAd_HillaryClinton_f1h3j</td>\n",
       "      <td>https://archive.org/embed/PolAd_HillaryClinton...</td>\n",
       "      <td>Hillary for America</td>\n",
       "      <td>Multiple</td>\n",
       "      <td>PRES</td>\n",
       "      <td>2016.0</td>\n",
       "      <td>Energy, China, Jobs</td>\n",
       "      <td>Hillary Clinton</td>\n",
       "      <td>campaign</td>\n",
       "      <td>pro</td>\n",
       "      <td>2016-09-12 14:49:32</td>\n",
       "    </tr>\n",
       "    <tr>\n",
       "      <th>3</th>\n",
       "      <td>4</td>\n",
       "      <td>5643</td>\n",
       "      <td>WFLA</td>\n",
       "      <td>Tampa-St. Petersburg, FL</td>\n",
       "      <td>Days of Our Lives</td>\n",
       "      <td>not news</td>\n",
       "      <td>2016-08-30 17:59:20 UTC</td>\n",
       "      <td>2016-08-30 17:59:50 UTC</td>\n",
       "      <td>PolAd_HillaryClinton_f1h3j</td>\n",
       "      <td>https://archive.org/embed/PolAd_HillaryClinton...</td>\n",
       "      <td>Hillary for America</td>\n",
       "      <td>Multiple</td>\n",
       "      <td>PRES</td>\n",
       "      <td>2016.0</td>\n",
       "      <td>Energy, China, Jobs</td>\n",
       "      <td>Hillary Clinton</td>\n",
       "      <td>campaign</td>\n",
       "      <td>pro</td>\n",
       "      <td>2016-09-12 14:49:32</td>\n",
       "    </tr>\n",
       "    <tr>\n",
       "      <th>4</th>\n",
       "      <td>5</td>\n",
       "      <td>5643</td>\n",
       "      <td>KSNV</td>\n",
       "      <td>Las Vegas, NV</td>\n",
       "      <td>The Tonight Show Starring Jimmy Fallon</td>\n",
       "      <td>news</td>\n",
       "      <td>2016-09-06 07:02:22 UTC</td>\n",
       "      <td>2016-09-06 07:02:52 UTC</td>\n",
       "      <td>PolAd_HillaryClinton_f1h3j</td>\n",
       "      <td>https://archive.org/embed/PolAd_HillaryClinton...</td>\n",
       "      <td>Hillary for America</td>\n",
       "      <td>Multiple</td>\n",
       "      <td>PRES</td>\n",
       "      <td>2016.0</td>\n",
       "      <td>Energy, China, Jobs</td>\n",
       "      <td>Hillary Clinton</td>\n",
       "      <td>campaign</td>\n",
       "      <td>pro</td>\n",
       "      <td>2016-09-12 14:49:32</td>\n",
       "    </tr>\n",
       "    <tr>\n",
       "      <th>5</th>\n",
       "      <td>6</td>\n",
       "      <td>5643</td>\n",
       "      <td>WTVT</td>\n",
       "      <td>Tampa-St. Petersburg, FL</td>\n",
       "      <td>TMZ Live</td>\n",
       "      <td>not news</td>\n",
       "      <td>2016-08-30 19:55:14 UTC</td>\n",
       "      <td>2016-08-30 19:55:44 UTC</td>\n",
       "      <td>PolAd_HillaryClinton_f1h3j</td>\n",
       "      <td>https://archive.org/embed/PolAd_HillaryClinton...</td>\n",
       "      <td>Hillary for America</td>\n",
       "      <td>Multiple</td>\n",
       "      <td>PRES</td>\n",
       "      <td>2016.0</td>\n",
       "      <td>Energy, China, Jobs</td>\n",
       "      <td>Hillary Clinton</td>\n",
       "      <td>campaign</td>\n",
       "      <td>pro</td>\n",
       "      <td>2016-09-12 14:49:32</td>\n",
       "    </tr>\n",
       "    <tr>\n",
       "      <th>6</th>\n",
       "      <td>7</td>\n",
       "      <td>5643</td>\n",
       "      <td>WTOG</td>\n",
       "      <td>Tampa-St. Petersburg, FL</td>\n",
       "      <td>Justice for All With Cristina Perez</td>\n",
       "      <td>not news</td>\n",
       "      <td>2016-08-30 13:22:30 UTC</td>\n",
       "      <td>2016-08-30 13:23:00 UTC</td>\n",
       "      <td>PolAd_HillaryClinton_f1h3j</td>\n",
       "      <td>https://archive.org/embed/PolAd_HillaryClinton...</td>\n",
       "      <td>Hillary for America</td>\n",
       "      <td>Multiple</td>\n",
       "      <td>PRES</td>\n",
       "      <td>2016.0</td>\n",
       "      <td>Energy, China, Jobs</td>\n",
       "      <td>Hillary Clinton</td>\n",
       "      <td>campaign</td>\n",
       "      <td>pro</td>\n",
       "      <td>2016-09-12 14:49:32</td>\n",
       "    </tr>\n",
       "    <tr>\n",
       "      <th>7</th>\n",
       "      <td>8</td>\n",
       "      <td>5643</td>\n",
       "      <td>WLFL</td>\n",
       "      <td>Raleigh-Durham-Fayetteville,  NC</td>\n",
       "      <td>The Flash</td>\n",
       "      <td>not news</td>\n",
       "      <td>2016-09-07 00:45:00 UTC</td>\n",
       "      <td>2016-09-07 00:45:30 UTC</td>\n",
       "      <td>PolAd_HillaryClinton_f1h3j</td>\n",
       "      <td>https://archive.org/embed/PolAd_HillaryClinton...</td>\n",
       "      <td>Hillary for America</td>\n",
       "      <td>Multiple</td>\n",
       "      <td>PRES</td>\n",
       "      <td>2016.0</td>\n",
       "      <td>Energy, China, Jobs</td>\n",
       "      <td>Hillary Clinton</td>\n",
       "      <td>campaign</td>\n",
       "      <td>pro</td>\n",
       "      <td>2016-09-12 14:49:32</td>\n",
       "    </tr>\n",
       "    <tr>\n",
       "      <th>8</th>\n",
       "      <td>9</td>\n",
       "      <td>5643</td>\n",
       "      <td>WOIO</td>\n",
       "      <td>Cleveland, Ohio</td>\n",
       "      <td>Cleveland 19 News at 6PM</td>\n",
       "      <td>news</td>\n",
       "      <td>2016-08-30 22:12:59 UTC</td>\n",
       "      <td>2016-08-30 22:13:29 UTC</td>\n",
       "      <td>PolAd_HillaryClinton_f1h3j</td>\n",
       "      <td>https://archive.org/embed/PolAd_HillaryClinton...</td>\n",
       "      <td>Hillary for America</td>\n",
       "      <td>Multiple</td>\n",
       "      <td>PRES</td>\n",
       "      <td>2016.0</td>\n",
       "      <td>Energy, China, Jobs</td>\n",
       "      <td>Hillary Clinton</td>\n",
       "      <td>campaign</td>\n",
       "      <td>pro</td>\n",
       "      <td>2016-09-12 14:49:32</td>\n",
       "    </tr>\n",
       "    <tr>\n",
       "      <th>9</th>\n",
       "      <td>10</td>\n",
       "      <td>5643</td>\n",
       "      <td>WRAL</td>\n",
       "      <td>Raleigh-Durham-Fayetteville,  NC</td>\n",
       "      <td>Last Call With Carson Daly</td>\n",
       "      <td>not news</td>\n",
       "      <td>2016-08-30 05:53:01 UTC</td>\n",
       "      <td>2016-08-30 05:53:31 UTC</td>\n",
       "      <td>PolAd_HillaryClinton_f1h3j</td>\n",
       "      <td>https://archive.org/embed/PolAd_HillaryClinton...</td>\n",
       "      <td>Hillary for America</td>\n",
       "      <td>Multiple</td>\n",
       "      <td>PRES</td>\n",
       "      <td>2016.0</td>\n",
       "      <td>Energy, China, Jobs</td>\n",
       "      <td>Hillary Clinton</td>\n",
       "      <td>campaign</td>\n",
       "      <td>pro</td>\n",
       "      <td>2016-09-12 14:49:32</td>\n",
       "    </tr>\n",
       "  </tbody>\n",
       "</table>\n",
       "</div>"
      ],
      "text/plain": [
       "   id  wp_identifier network                          location  \\\n",
       "0   1           5643    KLAS                     Las Vegas, NV   \n",
       "1   2           5643    WNCN  Raleigh-Durham-Fayetteville,  NC   \n",
       "2   3           5643    KLAS                     Las Vegas, NV   \n",
       "3   4           5643    WFLA          Tampa-St. Petersburg, FL   \n",
       "4   5           5643    KSNV                     Las Vegas, NV   \n",
       "5   6           5643    WTVT          Tampa-St. Petersburg, FL   \n",
       "6   7           5643    WTOG          Tampa-St. Petersburg, FL   \n",
       "7   8           5643    WLFL  Raleigh-Durham-Fayetteville,  NC   \n",
       "8   9           5643    WOIO                   Cleveland, Ohio   \n",
       "9  10           5643    WRAL  Raleigh-Durham-Fayetteville,  NC   \n",
       "\n",
       "                                  program program_type  \\\n",
       "0                      8 News Now at 5 PM         news   \n",
       "1            North Carolina News at 500PM         news   \n",
       "2                         Face the Nation         news   \n",
       "3                       Days of Our Lives     not news   \n",
       "4  The Tonight Show Starring Jimmy Fallon         news   \n",
       "5                                TMZ Live     not news   \n",
       "6     Justice for All With Cristina Perez     not news   \n",
       "7                               The Flash     not news   \n",
       "8                Cleveland 19 News at 6PM         news   \n",
       "9              Last Call With Carson Daly     not news   \n",
       "\n",
       "                start_time                 end_time  \\\n",
       "0  2016-09-09 00:12:59 UTC  2016-09-09 00:13:29 UTC   \n",
       "1  2016-09-06 21:58:25 UTC  2016-09-06 21:58:55 UTC   \n",
       "2  2016-09-04 16:24:25 UTC  2016-09-04 16:24:55 UTC   \n",
       "3  2016-08-30 17:59:20 UTC  2016-08-30 17:59:50 UTC   \n",
       "4  2016-09-06 07:02:22 UTC  2016-09-06 07:02:52 UTC   \n",
       "5  2016-08-30 19:55:14 UTC  2016-08-30 19:55:44 UTC   \n",
       "6  2016-08-30 13:22:30 UTC  2016-08-30 13:23:00 UTC   \n",
       "7  2016-09-07 00:45:00 UTC  2016-09-07 00:45:30 UTC   \n",
       "8  2016-08-30 22:12:59 UTC  2016-08-30 22:13:29 UTC   \n",
       "9  2016-08-30 05:53:01 UTC  2016-08-30 05:53:31 UTC   \n",
       "\n",
       "                   archive_id  \\\n",
       "0  PolAd_HillaryClinton_f1h3j   \n",
       "1  PolAd_HillaryClinton_f1h3j   \n",
       "2  PolAd_HillaryClinton_f1h3j   \n",
       "3  PolAd_HillaryClinton_f1h3j   \n",
       "4  PolAd_HillaryClinton_f1h3j   \n",
       "5  PolAd_HillaryClinton_f1h3j   \n",
       "6  PolAd_HillaryClinton_f1h3j   \n",
       "7  PolAd_HillaryClinton_f1h3j   \n",
       "8  PolAd_HillaryClinton_f1h3j   \n",
       "9  PolAd_HillaryClinton_f1h3j   \n",
       "\n",
       "                                           embed_url             sponsors  \\\n",
       "0  https://archive.org/embed/PolAd_HillaryClinton...  Hillary for America   \n",
       "1  https://archive.org/embed/PolAd_HillaryClinton...  Hillary for America   \n",
       "2  https://archive.org/embed/PolAd_HillaryClinton...  Hillary for America   \n",
       "3  https://archive.org/embed/PolAd_HillaryClinton...  Hillary for America   \n",
       "4  https://archive.org/embed/PolAd_HillaryClinton...  Hillary for America   \n",
       "5  https://archive.org/embed/PolAd_HillaryClinton...  Hillary for America   \n",
       "6  https://archive.org/embed/PolAd_HillaryClinton...  Hillary for America   \n",
       "7  https://archive.org/embed/PolAd_HillaryClinton...  Hillary for America   \n",
       "8  https://archive.org/embed/PolAd_HillaryClinton...  Hillary for America   \n",
       "9  https://archive.org/embed/PolAd_HillaryClinton...  Hillary for America   \n",
       "\n",
       "  sponsor_types  race   cycle             subjects       candidates      type  \\\n",
       "0      Multiple  PRES  2016.0  Energy, China, Jobs  Hillary Clinton  campaign   \n",
       "1      Multiple  PRES  2016.0  Energy, China, Jobs  Hillary Clinton  campaign   \n",
       "2      Multiple  PRES  2016.0  Energy, China, Jobs  Hillary Clinton  campaign   \n",
       "3      Multiple  PRES  2016.0  Energy, China, Jobs  Hillary Clinton  campaign   \n",
       "4      Multiple  PRES  2016.0  Energy, China, Jobs  Hillary Clinton  campaign   \n",
       "5      Multiple  PRES  2016.0  Energy, China, Jobs  Hillary Clinton  campaign   \n",
       "6      Multiple  PRES  2016.0  Energy, China, Jobs  Hillary Clinton  campaign   \n",
       "7      Multiple  PRES  2016.0  Energy, China, Jobs  Hillary Clinton  campaign   \n",
       "8      Multiple  PRES  2016.0  Energy, China, Jobs  Hillary Clinton  campaign   \n",
       "9      Multiple  PRES  2016.0  Energy, China, Jobs  Hillary Clinton  campaign   \n",
       "\n",
       "  message         date_created  \n",
       "0     pro  2016-09-12 14:49:32  \n",
       "1     pro  2016-09-12 14:49:32  \n",
       "2     pro  2016-09-12 14:49:32  \n",
       "3     pro  2016-09-12 14:49:32  \n",
       "4     pro  2016-09-12 14:49:32  \n",
       "5     pro  2016-09-12 14:49:32  \n",
       "6     pro  2016-09-12 14:49:32  \n",
       "7     pro  2016-09-12 14:49:32  \n",
       "8     pro  2016-09-12 14:49:32  \n",
       "9     pro  2016-09-12 14:49:32  "
      ]
     },
     "execution_count": 51,
     "metadata": {},
     "output_type": "execute_result"
    }
   ],
   "source": [
    "import numpy as np\n",
    "import pandas as pd\n",
    "import matplotlib.pyplot as plt\n",
    "\n",
    "raw_data = pd.read_csv('./../../Downloads/1667963917_export.csv')\n",
    "raw_data.head(10)"
   ]
  },
  {
   "cell_type": "code",
   "execution_count": null,
   "metadata": {},
   "outputs": [],
   "source": []
  },
  {
   "cell_type": "markdown",
   "metadata": {},
   "source": [
    "## Data Info"
   ]
  },
  {
   "cell_type": "markdown",
   "metadata": {},
   "source": [
    "### 1. shape"
   ]
  },
  {
   "cell_type": "code",
   "execution_count": 52,
   "metadata": {},
   "outputs": [
    {
     "data": {
      "text/plain": [
       "(375350, 19)"
      ]
     },
     "execution_count": 52,
     "metadata": {},
     "output_type": "execute_result"
    }
   ],
   "source": [
    "raw_data.shape"
   ]
  },
  {
   "cell_type": "markdown",
   "metadata": {},
   "source": [
    "### 2. Column info"
   ]
  },
  {
   "cell_type": "code",
   "execution_count": 53,
   "metadata": {},
   "outputs": [
    {
     "name": "stdout",
     "output_type": "stream",
     "text": [
      "<class 'pandas.core.frame.DataFrame'>\n",
      "RangeIndex: 375350 entries, 0 to 375349\n",
      "Data columns (total 19 columns):\n",
      " #   Column         Non-Null Count   Dtype  \n",
      "---  ------         --------------   -----  \n",
      " 0   id             375350 non-null  int64  \n",
      " 1   wp_identifier  375350 non-null  int64  \n",
      " 2   network        375350 non-null  object \n",
      " 3   location       375325 non-null  object \n",
      " 4   program        375335 non-null  object \n",
      " 5   program_type   375350 non-null  object \n",
      " 6   start_time     375350 non-null  object \n",
      " 7   end_time       375350 non-null  object \n",
      " 8   archive_id     375350 non-null  object \n",
      " 9   embed_url      375350 non-null  object \n",
      " 10  sponsors       374188 non-null  object \n",
      " 11  sponsor_types  374188 non-null  object \n",
      " 12  race           345478 non-null  object \n",
      " 13  cycle          346249 non-null  float64\n",
      " 14  subjects       352788 non-null  object \n",
      " 15  candidates     350223 non-null  object \n",
      " 16  type           375350 non-null  object \n",
      " 17  message        375350 non-null  object \n",
      " 18  date_created   375350 non-null  object \n",
      "dtypes: float64(1), int64(2), object(16)\n",
      "memory usage: 54.4+ MB\n"
     ]
    }
   ],
   "source": [
    "raw_data.info()"
   ]
  },
  {
   "cell_type": "markdown",
   "metadata": {},
   "source": [
    "# Data Cleaning "
   ]
  },
  {
   "cell_type": "markdown",
   "metadata": {},
   "source": [
    "## 1. Filter to only presidential Election "
   ]
  },
  {
   "cell_type": "code",
   "execution_count": 54,
   "metadata": {},
   "outputs": [
    {
     "data": {
      "text/html": [
       "<div>\n",
       "<style scoped>\n",
       "    .dataframe tbody tr th:only-of-type {\n",
       "        vertical-align: middle;\n",
       "    }\n",
       "\n",
       "    .dataframe tbody tr th {\n",
       "        vertical-align: top;\n",
       "    }\n",
       "\n",
       "    .dataframe thead th {\n",
       "        text-align: right;\n",
       "    }\n",
       "</style>\n",
       "<table border=\"1\" class=\"dataframe\">\n",
       "  <thead>\n",
       "    <tr style=\"text-align: right;\">\n",
       "      <th></th>\n",
       "      <th>id</th>\n",
       "      <th>wp_identifier</th>\n",
       "      <th>network</th>\n",
       "      <th>location</th>\n",
       "      <th>program</th>\n",
       "      <th>program_type</th>\n",
       "      <th>start_time</th>\n",
       "      <th>end_time</th>\n",
       "      <th>archive_id</th>\n",
       "      <th>embed_url</th>\n",
       "      <th>sponsors</th>\n",
       "      <th>sponsor_types</th>\n",
       "      <th>race</th>\n",
       "      <th>cycle</th>\n",
       "      <th>subjects</th>\n",
       "      <th>candidates</th>\n",
       "      <th>type</th>\n",
       "      <th>message</th>\n",
       "      <th>date_created</th>\n",
       "    </tr>\n",
       "  </thead>\n",
       "  <tbody>\n",
       "    <tr>\n",
       "      <th>0</th>\n",
       "      <td>1</td>\n",
       "      <td>5643</td>\n",
       "      <td>KLAS</td>\n",
       "      <td>Las Vegas, NV</td>\n",
       "      <td>8 News Now at 5 PM</td>\n",
       "      <td>news</td>\n",
       "      <td>2016-09-09 00:12:59 UTC</td>\n",
       "      <td>2016-09-09 00:13:29 UTC</td>\n",
       "      <td>PolAd_HillaryClinton_f1h3j</td>\n",
       "      <td>https://archive.org/embed/PolAd_HillaryClinton...</td>\n",
       "      <td>Hillary for America</td>\n",
       "      <td>Multiple</td>\n",
       "      <td>PRES</td>\n",
       "      <td>2016.0</td>\n",
       "      <td>Energy, China, Jobs</td>\n",
       "      <td>Hillary Clinton</td>\n",
       "      <td>campaign</td>\n",
       "      <td>pro</td>\n",
       "      <td>2016-09-12 14:49:32</td>\n",
       "    </tr>\n",
       "    <tr>\n",
       "      <th>1</th>\n",
       "      <td>2</td>\n",
       "      <td>5643</td>\n",
       "      <td>WNCN</td>\n",
       "      <td>Raleigh-Durham-Fayetteville,  NC</td>\n",
       "      <td>North Carolina News at 500PM</td>\n",
       "      <td>news</td>\n",
       "      <td>2016-09-06 21:58:25 UTC</td>\n",
       "      <td>2016-09-06 21:58:55 UTC</td>\n",
       "      <td>PolAd_HillaryClinton_f1h3j</td>\n",
       "      <td>https://archive.org/embed/PolAd_HillaryClinton...</td>\n",
       "      <td>Hillary for America</td>\n",
       "      <td>Multiple</td>\n",
       "      <td>PRES</td>\n",
       "      <td>2016.0</td>\n",
       "      <td>Energy, China, Jobs</td>\n",
       "      <td>Hillary Clinton</td>\n",
       "      <td>campaign</td>\n",
       "      <td>pro</td>\n",
       "      <td>2016-09-12 14:49:32</td>\n",
       "    </tr>\n",
       "    <tr>\n",
       "      <th>2</th>\n",
       "      <td>3</td>\n",
       "      <td>5643</td>\n",
       "      <td>KLAS</td>\n",
       "      <td>Las Vegas, NV</td>\n",
       "      <td>Face the Nation</td>\n",
       "      <td>news</td>\n",
       "      <td>2016-09-04 16:24:25 UTC</td>\n",
       "      <td>2016-09-04 16:24:55 UTC</td>\n",
       "      <td>PolAd_HillaryClinton_f1h3j</td>\n",
       "      <td>https://archive.org/embed/PolAd_HillaryClinton...</td>\n",
       "      <td>Hillary for America</td>\n",
       "      <td>Multiple</td>\n",
       "      <td>PRES</td>\n",
       "      <td>2016.0</td>\n",
       "      <td>Energy, China, Jobs</td>\n",
       "      <td>Hillary Clinton</td>\n",
       "      <td>campaign</td>\n",
       "      <td>pro</td>\n",
       "      <td>2016-09-12 14:49:32</td>\n",
       "    </tr>\n",
       "    <tr>\n",
       "      <th>3</th>\n",
       "      <td>4</td>\n",
       "      <td>5643</td>\n",
       "      <td>WFLA</td>\n",
       "      <td>Tampa-St. Petersburg, FL</td>\n",
       "      <td>Days of Our Lives</td>\n",
       "      <td>not news</td>\n",
       "      <td>2016-08-30 17:59:20 UTC</td>\n",
       "      <td>2016-08-30 17:59:50 UTC</td>\n",
       "      <td>PolAd_HillaryClinton_f1h3j</td>\n",
       "      <td>https://archive.org/embed/PolAd_HillaryClinton...</td>\n",
       "      <td>Hillary for America</td>\n",
       "      <td>Multiple</td>\n",
       "      <td>PRES</td>\n",
       "      <td>2016.0</td>\n",
       "      <td>Energy, China, Jobs</td>\n",
       "      <td>Hillary Clinton</td>\n",
       "      <td>campaign</td>\n",
       "      <td>pro</td>\n",
       "      <td>2016-09-12 14:49:32</td>\n",
       "    </tr>\n",
       "    <tr>\n",
       "      <th>4</th>\n",
       "      <td>5</td>\n",
       "      <td>5643</td>\n",
       "      <td>KSNV</td>\n",
       "      <td>Las Vegas, NV</td>\n",
       "      <td>The Tonight Show Starring Jimmy Fallon</td>\n",
       "      <td>news</td>\n",
       "      <td>2016-09-06 07:02:22 UTC</td>\n",
       "      <td>2016-09-06 07:02:52 UTC</td>\n",
       "      <td>PolAd_HillaryClinton_f1h3j</td>\n",
       "      <td>https://archive.org/embed/PolAd_HillaryClinton...</td>\n",
       "      <td>Hillary for America</td>\n",
       "      <td>Multiple</td>\n",
       "      <td>PRES</td>\n",
       "      <td>2016.0</td>\n",
       "      <td>Energy, China, Jobs</td>\n",
       "      <td>Hillary Clinton</td>\n",
       "      <td>campaign</td>\n",
       "      <td>pro</td>\n",
       "      <td>2016-09-12 14:49:32</td>\n",
       "    </tr>\n",
       "  </tbody>\n",
       "</table>\n",
       "</div>"
      ],
      "text/plain": [
       "   id  wp_identifier network                          location  \\\n",
       "0   1           5643    KLAS                     Las Vegas, NV   \n",
       "1   2           5643    WNCN  Raleigh-Durham-Fayetteville,  NC   \n",
       "2   3           5643    KLAS                     Las Vegas, NV   \n",
       "3   4           5643    WFLA          Tampa-St. Petersburg, FL   \n",
       "4   5           5643    KSNV                     Las Vegas, NV   \n",
       "\n",
       "                                  program program_type  \\\n",
       "0                      8 News Now at 5 PM         news   \n",
       "1            North Carolina News at 500PM         news   \n",
       "2                         Face the Nation         news   \n",
       "3                       Days of Our Lives     not news   \n",
       "4  The Tonight Show Starring Jimmy Fallon         news   \n",
       "\n",
       "                start_time                 end_time  \\\n",
       "0  2016-09-09 00:12:59 UTC  2016-09-09 00:13:29 UTC   \n",
       "1  2016-09-06 21:58:25 UTC  2016-09-06 21:58:55 UTC   \n",
       "2  2016-09-04 16:24:25 UTC  2016-09-04 16:24:55 UTC   \n",
       "3  2016-08-30 17:59:20 UTC  2016-08-30 17:59:50 UTC   \n",
       "4  2016-09-06 07:02:22 UTC  2016-09-06 07:02:52 UTC   \n",
       "\n",
       "                   archive_id  \\\n",
       "0  PolAd_HillaryClinton_f1h3j   \n",
       "1  PolAd_HillaryClinton_f1h3j   \n",
       "2  PolAd_HillaryClinton_f1h3j   \n",
       "3  PolAd_HillaryClinton_f1h3j   \n",
       "4  PolAd_HillaryClinton_f1h3j   \n",
       "\n",
       "                                           embed_url             sponsors  \\\n",
       "0  https://archive.org/embed/PolAd_HillaryClinton...  Hillary for America   \n",
       "1  https://archive.org/embed/PolAd_HillaryClinton...  Hillary for America   \n",
       "2  https://archive.org/embed/PolAd_HillaryClinton...  Hillary for America   \n",
       "3  https://archive.org/embed/PolAd_HillaryClinton...  Hillary for America   \n",
       "4  https://archive.org/embed/PolAd_HillaryClinton...  Hillary for America   \n",
       "\n",
       "  sponsor_types  race   cycle             subjects       candidates      type  \\\n",
       "0      Multiple  PRES  2016.0  Energy, China, Jobs  Hillary Clinton  campaign   \n",
       "1      Multiple  PRES  2016.0  Energy, China, Jobs  Hillary Clinton  campaign   \n",
       "2      Multiple  PRES  2016.0  Energy, China, Jobs  Hillary Clinton  campaign   \n",
       "3      Multiple  PRES  2016.0  Energy, China, Jobs  Hillary Clinton  campaign   \n",
       "4      Multiple  PRES  2016.0  Energy, China, Jobs  Hillary Clinton  campaign   \n",
       "\n",
       "  message         date_created  \n",
       "0     pro  2016-09-12 14:49:32  \n",
       "1     pro  2016-09-12 14:49:32  \n",
       "2     pro  2016-09-12 14:49:32  \n",
       "3     pro  2016-09-12 14:49:32  \n",
       "4     pro  2016-09-12 14:49:32  "
      ]
     },
     "execution_count": 54,
     "metadata": {},
     "output_type": "execute_result"
    }
   ],
   "source": [
    "pres_airing = raw_data[raw_data.race == 'PRES']\n",
    "pres_airing.head()"
   ]
  },
  {
   "cell_type": "markdown",
   "metadata": {},
   "source": [
    "### 2. Create State Column "
   ]
  },
  {
   "cell_type": "code",
   "execution_count": 55,
   "metadata": {},
   "outputs": [
    {
     "name": "stderr",
     "output_type": "stream",
     "text": [
      "/var/folders/b6/69j3jd3d6m97vfc895kvd0rc0000gn/T/ipykernel_90197/2656042222.py:1: SettingWithCopyWarning: \n",
      "A value is trying to be set on a copy of a slice from a DataFrame.\n",
      "Try using .loc[row_indexer,col_indexer] = value instead\n",
      "\n",
      "See the caveats in the documentation: https://pandas.pydata.org/pandas-docs/stable/user_guide/indexing.html#returning-a-view-versus-a-copy\n",
      "  pres_airing.location = pres_airing.location.str.replace(\"Iowa\", \"IA\")\n",
      "/var/folders/b6/69j3jd3d6m97vfc895kvd0rc0000gn/T/ipykernel_90197/2656042222.py:2: SettingWithCopyWarning: \n",
      "A value is trying to be set on a copy of a slice from a DataFrame.\n",
      "Try using .loc[row_indexer,col_indexer] = value instead\n",
      "\n",
      "See the caveats in the documentation: https://pandas.pydata.org/pandas-docs/stable/user_guide/indexing.html#returning-a-view-versus-a-copy\n",
      "  pres_airing.location = pres_airing.location.str.replace(\"Ohio\", \"OH\")\n",
      "/var/folders/b6/69j3jd3d6m97vfc895kvd0rc0000gn/T/ipykernel_90197/2656042222.py:3: SettingWithCopyWarning: \n",
      "A value is trying to be set on a copy of a slice from a DataFrame.\n",
      "Try using .loc[row_indexer,col_indexer] = value instead\n",
      "\n",
      "See the caveats in the documentation: https://pandas.pydata.org/pandas-docs/stable/user_guide/indexing.html#returning-a-view-versus-a-copy\n",
      "  pres_airing[\"state\"] = pres_airing.location.str[-2:]\n"
     ]
    },
    {
     "data": {
      "text/plain": [
       "IA    52453\n",
       "NH    27566\n",
       "NV    23882\n",
       "FL    22073\n",
       "NC    19436\n",
       "OH    16496\n",
       "CA    16282\n",
       "PA    15168\n",
       "SC    10352\n",
       "CO     8011\n",
       "WI     4101\n",
       "AZ     3247\n",
       "MD     2104\n",
       "NY     2008\n",
       "VA      518\n",
       "Name: state, dtype: int64"
      ]
     },
     "execution_count": 55,
     "metadata": {},
     "output_type": "execute_result"
    }
   ],
   "source": [
    "pres_airing.location = pres_airing.location.str.replace(\"Iowa\", \"IA\")\n",
    "pres_airing.location = pres_airing.location.str.replace(\"Ohio\", \"OH\")\n",
    "pres_airing[\"state\"] = pres_airing.location.str[-2:]\n",
    "pres_airing.state.value_counts()"
   ]
  },
  {
   "cell_type": "markdown",
   "metadata": {},
   "source": [
    "### 3. Create Hour column for Time analysis "
   ]
  },
  {
   "cell_type": "code",
   "execution_count": 56,
   "metadata": {},
   "outputs": [
    {
     "name": "stderr",
     "output_type": "stream",
     "text": [
      "/var/folders/b6/69j3jd3d6m97vfc895kvd0rc0000gn/T/ipykernel_90197/2929205564.py:1: SettingWithCopyWarning: \n",
      "A value is trying to be set on a copy of a slice from a DataFrame.\n",
      "Try using .loc[row_indexer,col_indexer] = value instead\n",
      "\n",
      "See the caveats in the documentation: https://pandas.pydata.org/pandas-docs/stable/user_guide/indexing.html#returning-a-view-versus-a-copy\n",
      "  pres_airing.start_time = pres_airing.start_time.str[:19]\n",
      "/var/folders/b6/69j3jd3d6m97vfc895kvd0rc0000gn/T/ipykernel_90197/2929205564.py:2: SettingWithCopyWarning: \n",
      "A value is trying to be set on a copy of a slice from a DataFrame.\n",
      "Try using .loc[row_indexer,col_indexer] = value instead\n",
      "\n",
      "See the caveats in the documentation: https://pandas.pydata.org/pandas-docs/stable/user_guide/indexing.html#returning-a-view-versus-a-copy\n",
      "  pres_airing[\"converted_start\"] = pd.to_datetime(pres_airing.start_time)\n",
      "/var/folders/b6/69j3jd3d6m97vfc895kvd0rc0000gn/T/ipykernel_90197/2929205564.py:3: SettingWithCopyWarning: \n",
      "A value is trying to be set on a copy of a slice from a DataFrame.\n",
      "Try using .loc[row_indexer,col_indexer] = value instead\n",
      "\n",
      "See the caveats in the documentation: https://pandas.pydata.org/pandas-docs/stable/user_guide/indexing.html#returning-a-view-versus-a-copy\n",
      "  pres_airing[\"hour\"] =  pres_airing.converted_start.dt.hour\n"
     ]
    },
    {
     "data": {
      "text/html": [
       "<div>\n",
       "<style scoped>\n",
       "    .dataframe tbody tr th:only-of-type {\n",
       "        vertical-align: middle;\n",
       "    }\n",
       "\n",
       "    .dataframe tbody tr th {\n",
       "        vertical-align: top;\n",
       "    }\n",
       "\n",
       "    .dataframe thead th {\n",
       "        text-align: right;\n",
       "    }\n",
       "</style>\n",
       "<table border=\"1\" class=\"dataframe\">\n",
       "  <thead>\n",
       "    <tr style=\"text-align: right;\">\n",
       "      <th></th>\n",
       "      <th>id</th>\n",
       "      <th>wp_identifier</th>\n",
       "      <th>network</th>\n",
       "      <th>location</th>\n",
       "      <th>program</th>\n",
       "      <th>program_type</th>\n",
       "      <th>start_time</th>\n",
       "      <th>end_time</th>\n",
       "      <th>archive_id</th>\n",
       "      <th>embed_url</th>\n",
       "      <th>...</th>\n",
       "      <th>race</th>\n",
       "      <th>cycle</th>\n",
       "      <th>subjects</th>\n",
       "      <th>candidates</th>\n",
       "      <th>type</th>\n",
       "      <th>message</th>\n",
       "      <th>date_created</th>\n",
       "      <th>state</th>\n",
       "      <th>converted_start</th>\n",
       "      <th>hour</th>\n",
       "    </tr>\n",
       "  </thead>\n",
       "  <tbody>\n",
       "    <tr>\n",
       "      <th>0</th>\n",
       "      <td>1</td>\n",
       "      <td>5643</td>\n",
       "      <td>KLAS</td>\n",
       "      <td>Las Vegas, NV</td>\n",
       "      <td>8 News Now at 5 PM</td>\n",
       "      <td>news</td>\n",
       "      <td>2016-09-09 00:12:59</td>\n",
       "      <td>2016-09-09 00:13:29 UTC</td>\n",
       "      <td>PolAd_HillaryClinton_f1h3j</td>\n",
       "      <td>https://archive.org/embed/PolAd_HillaryClinton...</td>\n",
       "      <td>...</td>\n",
       "      <td>PRES</td>\n",
       "      <td>2016.0</td>\n",
       "      <td>Energy, China, Jobs</td>\n",
       "      <td>Hillary Clinton</td>\n",
       "      <td>campaign</td>\n",
       "      <td>pro</td>\n",
       "      <td>2016-09-12 14:49:32</td>\n",
       "      <td>NV</td>\n",
       "      <td>2016-09-09 00:12:59</td>\n",
       "      <td>0</td>\n",
       "    </tr>\n",
       "    <tr>\n",
       "      <th>1</th>\n",
       "      <td>2</td>\n",
       "      <td>5643</td>\n",
       "      <td>WNCN</td>\n",
       "      <td>Raleigh-Durham-Fayetteville,  NC</td>\n",
       "      <td>North Carolina News at 500PM</td>\n",
       "      <td>news</td>\n",
       "      <td>2016-09-06 21:58:25</td>\n",
       "      <td>2016-09-06 21:58:55 UTC</td>\n",
       "      <td>PolAd_HillaryClinton_f1h3j</td>\n",
       "      <td>https://archive.org/embed/PolAd_HillaryClinton...</td>\n",
       "      <td>...</td>\n",
       "      <td>PRES</td>\n",
       "      <td>2016.0</td>\n",
       "      <td>Energy, China, Jobs</td>\n",
       "      <td>Hillary Clinton</td>\n",
       "      <td>campaign</td>\n",
       "      <td>pro</td>\n",
       "      <td>2016-09-12 14:49:32</td>\n",
       "      <td>NC</td>\n",
       "      <td>2016-09-06 21:58:25</td>\n",
       "      <td>21</td>\n",
       "    </tr>\n",
       "    <tr>\n",
       "      <th>2</th>\n",
       "      <td>3</td>\n",
       "      <td>5643</td>\n",
       "      <td>KLAS</td>\n",
       "      <td>Las Vegas, NV</td>\n",
       "      <td>Face the Nation</td>\n",
       "      <td>news</td>\n",
       "      <td>2016-09-04 16:24:25</td>\n",
       "      <td>2016-09-04 16:24:55 UTC</td>\n",
       "      <td>PolAd_HillaryClinton_f1h3j</td>\n",
       "      <td>https://archive.org/embed/PolAd_HillaryClinton...</td>\n",
       "      <td>...</td>\n",
       "      <td>PRES</td>\n",
       "      <td>2016.0</td>\n",
       "      <td>Energy, China, Jobs</td>\n",
       "      <td>Hillary Clinton</td>\n",
       "      <td>campaign</td>\n",
       "      <td>pro</td>\n",
       "      <td>2016-09-12 14:49:32</td>\n",
       "      <td>NV</td>\n",
       "      <td>2016-09-04 16:24:25</td>\n",
       "      <td>16</td>\n",
       "    </tr>\n",
       "    <tr>\n",
       "      <th>3</th>\n",
       "      <td>4</td>\n",
       "      <td>5643</td>\n",
       "      <td>WFLA</td>\n",
       "      <td>Tampa-St. Petersburg, FL</td>\n",
       "      <td>Days of Our Lives</td>\n",
       "      <td>not news</td>\n",
       "      <td>2016-08-30 17:59:20</td>\n",
       "      <td>2016-08-30 17:59:50 UTC</td>\n",
       "      <td>PolAd_HillaryClinton_f1h3j</td>\n",
       "      <td>https://archive.org/embed/PolAd_HillaryClinton...</td>\n",
       "      <td>...</td>\n",
       "      <td>PRES</td>\n",
       "      <td>2016.0</td>\n",
       "      <td>Energy, China, Jobs</td>\n",
       "      <td>Hillary Clinton</td>\n",
       "      <td>campaign</td>\n",
       "      <td>pro</td>\n",
       "      <td>2016-09-12 14:49:32</td>\n",
       "      <td>FL</td>\n",
       "      <td>2016-08-30 17:59:20</td>\n",
       "      <td>17</td>\n",
       "    </tr>\n",
       "    <tr>\n",
       "      <th>4</th>\n",
       "      <td>5</td>\n",
       "      <td>5643</td>\n",
       "      <td>KSNV</td>\n",
       "      <td>Las Vegas, NV</td>\n",
       "      <td>The Tonight Show Starring Jimmy Fallon</td>\n",
       "      <td>news</td>\n",
       "      <td>2016-09-06 07:02:22</td>\n",
       "      <td>2016-09-06 07:02:52 UTC</td>\n",
       "      <td>PolAd_HillaryClinton_f1h3j</td>\n",
       "      <td>https://archive.org/embed/PolAd_HillaryClinton...</td>\n",
       "      <td>...</td>\n",
       "      <td>PRES</td>\n",
       "      <td>2016.0</td>\n",
       "      <td>Energy, China, Jobs</td>\n",
       "      <td>Hillary Clinton</td>\n",
       "      <td>campaign</td>\n",
       "      <td>pro</td>\n",
       "      <td>2016-09-12 14:49:32</td>\n",
       "      <td>NV</td>\n",
       "      <td>2016-09-06 07:02:22</td>\n",
       "      <td>7</td>\n",
       "    </tr>\n",
       "  </tbody>\n",
       "</table>\n",
       "<p>5 rows × 22 columns</p>\n",
       "</div>"
      ],
      "text/plain": [
       "   id  wp_identifier network                          location  \\\n",
       "0   1           5643    KLAS                     Las Vegas, NV   \n",
       "1   2           5643    WNCN  Raleigh-Durham-Fayetteville,  NC   \n",
       "2   3           5643    KLAS                     Las Vegas, NV   \n",
       "3   4           5643    WFLA          Tampa-St. Petersburg, FL   \n",
       "4   5           5643    KSNV                     Las Vegas, NV   \n",
       "\n",
       "                                  program program_type           start_time  \\\n",
       "0                      8 News Now at 5 PM         news  2016-09-09 00:12:59   \n",
       "1            North Carolina News at 500PM         news  2016-09-06 21:58:25   \n",
       "2                         Face the Nation         news  2016-09-04 16:24:25   \n",
       "3                       Days of Our Lives     not news  2016-08-30 17:59:20   \n",
       "4  The Tonight Show Starring Jimmy Fallon         news  2016-09-06 07:02:22   \n",
       "\n",
       "                  end_time                  archive_id  \\\n",
       "0  2016-09-09 00:13:29 UTC  PolAd_HillaryClinton_f1h3j   \n",
       "1  2016-09-06 21:58:55 UTC  PolAd_HillaryClinton_f1h3j   \n",
       "2  2016-09-04 16:24:55 UTC  PolAd_HillaryClinton_f1h3j   \n",
       "3  2016-08-30 17:59:50 UTC  PolAd_HillaryClinton_f1h3j   \n",
       "4  2016-09-06 07:02:52 UTC  PolAd_HillaryClinton_f1h3j   \n",
       "\n",
       "                                           embed_url  ...  race   cycle  \\\n",
       "0  https://archive.org/embed/PolAd_HillaryClinton...  ...  PRES  2016.0   \n",
       "1  https://archive.org/embed/PolAd_HillaryClinton...  ...  PRES  2016.0   \n",
       "2  https://archive.org/embed/PolAd_HillaryClinton...  ...  PRES  2016.0   \n",
       "3  https://archive.org/embed/PolAd_HillaryClinton...  ...  PRES  2016.0   \n",
       "4  https://archive.org/embed/PolAd_HillaryClinton...  ...  PRES  2016.0   \n",
       "\n",
       "              subjects       candidates      type message  \\\n",
       "0  Energy, China, Jobs  Hillary Clinton  campaign     pro   \n",
       "1  Energy, China, Jobs  Hillary Clinton  campaign     pro   \n",
       "2  Energy, China, Jobs  Hillary Clinton  campaign     pro   \n",
       "3  Energy, China, Jobs  Hillary Clinton  campaign     pro   \n",
       "4  Energy, China, Jobs  Hillary Clinton  campaign     pro   \n",
       "\n",
       "          date_created state     converted_start hour  \n",
       "0  2016-09-12 14:49:32    NV 2016-09-09 00:12:59    0  \n",
       "1  2016-09-12 14:49:32    NC 2016-09-06 21:58:25   21  \n",
       "2  2016-09-12 14:49:32    NV 2016-09-04 16:24:25   16  \n",
       "3  2016-09-12 14:49:32    FL 2016-08-30 17:59:20   17  \n",
       "4  2016-09-12 14:49:32    NV 2016-09-06 07:02:22    7  \n",
       "\n",
       "[5 rows x 22 columns]"
      ]
     },
     "execution_count": 56,
     "metadata": {},
     "output_type": "execute_result"
    }
   ],
   "source": [
    "pres_airing.start_time = pres_airing.start_time.str[:19]\n",
    "pres_airing[\"converted_start\"] = pd.to_datetime(pres_airing.start_time)\n",
    "pres_airing[\"hour\"] =  pres_airing.converted_start.dt.hour\n",
    "pres_airing.head()"
   ]
  },
  {
   "cell_type": "code",
   "execution_count": 57,
   "metadata": {},
   "outputs": [
    {
     "name": "stderr",
     "output_type": "stream",
     "text": [
      "/var/folders/b6/69j3jd3d6m97vfc895kvd0rc0000gn/T/ipykernel_90197/1250028920.py:1: SettingWithCopyWarning: \n",
      "A value is trying to be set on a copy of a slice from a DataFrame.\n",
      "Try using .loc[row_indexer,col_indexer] = value instead\n",
      "\n",
      "See the caveats in the documentation: https://pandas.pydata.org/pandas-docs/stable/user_guide/indexing.html#returning-a-view-versus-a-copy\n",
      "  pres_airing.end_time = pres_airing.end_time.str[:19]\n",
      "/var/folders/b6/69j3jd3d6m97vfc895kvd0rc0000gn/T/ipykernel_90197/1250028920.py:2: SettingWithCopyWarning: \n",
      "A value is trying to be set on a copy of a slice from a DataFrame.\n",
      "Try using .loc[row_indexer,col_indexer] = value instead\n",
      "\n",
      "See the caveats in the documentation: https://pandas.pydata.org/pandas-docs/stable/user_guide/indexing.html#returning-a-view-versus-a-copy\n",
      "  pres_airing[\"converted_end\"] = pd.to_datetime(pres_airing.end_time)\n"
     ]
    }
   ],
   "source": [
    "pres_airing.end_time = pres_airing.end_time.str[:19]\n",
    "pres_airing[\"converted_end\"] = pd.to_datetime(pres_airing.end_time)\n"
   ]
  },
  {
   "cell_type": "code",
   "execution_count": null,
   "metadata": {},
   "outputs": [],
   "source": []
  },
  {
   "cell_type": "code",
   "execution_count": 58,
   "metadata": {},
   "outputs": [],
   "source": [
    "pres_airing = pres_airing[(pres_airing.converted_start >= pd.to_datetime('2016-07-27')) & (pres_airing.converted_start <= pd.to_datetime('2016-11-7')) ]"
   ]
  },
  {
   "cell_type": "markdown",
   "metadata": {},
   "source": [
    "### 4. Filter so that it is only Donald Trump"
   ]
  },
  {
   "cell_type": "code",
   "execution_count": 59,
   "metadata": {},
   "outputs": [
    {
     "data": {
      "text/plain": [
       "Donald J Trump For President     21100\n",
       "Donald J. Trump For President      520\n",
       "Name: sponsors, dtype: int64"
      ]
     },
     "execution_count": 59,
     "metadata": {},
     "output_type": "execute_result"
    }
   ],
   "source": [
    "pres_airing = pres_airing[pres_airing.sponsors.str.contains('Trump')]\n",
    "pres_airing.sponsors.value_counts()"
   ]
  },
  {
   "cell_type": "code",
   "execution_count": 60,
   "metadata": {},
   "outputs": [],
   "source": [
    "swing_states = [\"IA\", \"FL\", \"NC\", \"OH\", \"PA\", \"WI\", \"AZ\",\"NH\",\"NV\",\"CO\", \"VA\"]\n",
    "pres_airing = pres_airing[pres_airing.state.isin(swing_states)]"
   ]
  },
  {
   "cell_type": "code",
   "execution_count": 61,
   "metadata": {},
   "outputs": [
    {
     "data": {
      "text/html": [
       "<div>\n",
       "<style scoped>\n",
       "    .dataframe tbody tr th:only-of-type {\n",
       "        vertical-align: middle;\n",
       "    }\n",
       "\n",
       "    .dataframe tbody tr th {\n",
       "        vertical-align: top;\n",
       "    }\n",
       "\n",
       "    .dataframe thead th {\n",
       "        text-align: right;\n",
       "    }\n",
       "</style>\n",
       "<table border=\"1\" class=\"dataframe\">\n",
       "  <thead>\n",
       "    <tr style=\"text-align: right;\">\n",
       "      <th></th>\n",
       "      <th>id</th>\n",
       "      <th>wp_identifier</th>\n",
       "      <th>network</th>\n",
       "      <th>location</th>\n",
       "      <th>program</th>\n",
       "      <th>program_type</th>\n",
       "      <th>start_time</th>\n",
       "      <th>end_time</th>\n",
       "      <th>archive_id</th>\n",
       "      <th>embed_url</th>\n",
       "      <th>...</th>\n",
       "      <th>cycle</th>\n",
       "      <th>subjects</th>\n",
       "      <th>candidates</th>\n",
       "      <th>type</th>\n",
       "      <th>message</th>\n",
       "      <th>date_created</th>\n",
       "      <th>state</th>\n",
       "      <th>converted_start</th>\n",
       "      <th>hour</th>\n",
       "      <th>converted_end</th>\n",
       "    </tr>\n",
       "  </thead>\n",
       "  <tbody>\n",
       "    <tr>\n",
       "      <th>4228</th>\n",
       "      <td>5540</td>\n",
       "      <td>5183</td>\n",
       "      <td>KTNV</td>\n",
       "      <td>Las Vegas, NV</td>\n",
       "      <td>World News Now</td>\n",
       "      <td>news</td>\n",
       "      <td>2016-09-09 09:59:13</td>\n",
       "      <td>2016-09-09 09:59:43</td>\n",
       "      <td>PolAd_HillaryClinton_DonaldTrump_o5dtl</td>\n",
       "      <td>https://archive.org/embed/PolAd_HillaryClinton...</td>\n",
       "      <td>...</td>\n",
       "      <td>2016.0</td>\n",
       "      <td>Economy, Jobs, Federal Budget, Taxes, Families</td>\n",
       "      <td>Donald Trump, Hillary Clinton</td>\n",
       "      <td>campaign</td>\n",
       "      <td>mixed</td>\n",
       "      <td>2016-09-12 14:49:52</td>\n",
       "      <td>NV</td>\n",
       "      <td>2016-09-09 09:59:13</td>\n",
       "      <td>9</td>\n",
       "      <td>2016-09-09 09:59:43</td>\n",
       "    </tr>\n",
       "    <tr>\n",
       "      <th>4229</th>\n",
       "      <td>5541</td>\n",
       "      <td>5183</td>\n",
       "      <td>WNCN</td>\n",
       "      <td>Raleigh-Durham-Fayetteville,  NC</td>\n",
       "      <td>North Carolina News at 500PM</td>\n",
       "      <td>news</td>\n",
       "      <td>2016-08-30 21:49:29</td>\n",
       "      <td>2016-08-30 21:49:59</td>\n",
       "      <td>PolAd_HillaryClinton_DonaldTrump_o5dtl</td>\n",
       "      <td>https://archive.org/embed/PolAd_HillaryClinton...</td>\n",
       "      <td>...</td>\n",
       "      <td>2016.0</td>\n",
       "      <td>Economy, Jobs, Federal Budget, Taxes, Families</td>\n",
       "      <td>Donald Trump, Hillary Clinton</td>\n",
       "      <td>campaign</td>\n",
       "      <td>mixed</td>\n",
       "      <td>2016-09-12 14:49:52</td>\n",
       "      <td>NC</td>\n",
       "      <td>2016-08-30 21:49:29</td>\n",
       "      <td>21</td>\n",
       "      <td>2016-08-30 21:49:59</td>\n",
       "    </tr>\n",
       "    <tr>\n",
       "      <th>4230</th>\n",
       "      <td>5542</td>\n",
       "      <td>5183</td>\n",
       "      <td>KSNV</td>\n",
       "      <td>Las Vegas, NV</td>\n",
       "      <td>News 3 Live Today</td>\n",
       "      <td>news</td>\n",
       "      <td>2016-09-09 11:58:05</td>\n",
       "      <td>2016-09-09 11:58:35</td>\n",
       "      <td>PolAd_HillaryClinton_DonaldTrump_o5dtl</td>\n",
       "      <td>https://archive.org/embed/PolAd_HillaryClinton...</td>\n",
       "      <td>...</td>\n",
       "      <td>2016.0</td>\n",
       "      <td>Economy, Jobs, Federal Budget, Taxes, Families</td>\n",
       "      <td>Donald Trump, Hillary Clinton</td>\n",
       "      <td>campaign</td>\n",
       "      <td>mixed</td>\n",
       "      <td>2016-09-12 14:49:52</td>\n",
       "      <td>NV</td>\n",
       "      <td>2016-09-09 11:58:05</td>\n",
       "      <td>11</td>\n",
       "      <td>2016-09-09 11:58:35</td>\n",
       "    </tr>\n",
       "    <tr>\n",
       "      <th>4231</th>\n",
       "      <td>5543</td>\n",
       "      <td>5183</td>\n",
       "      <td>KSNV</td>\n",
       "      <td>Las Vegas, NV</td>\n",
       "      <td>News 3 Live Today</td>\n",
       "      <td>news</td>\n",
       "      <td>2016-09-09 11:44:15</td>\n",
       "      <td>2016-09-09 11:44:45</td>\n",
       "      <td>PolAd_HillaryClinton_DonaldTrump_o5dtl</td>\n",
       "      <td>https://archive.org/embed/PolAd_HillaryClinton...</td>\n",
       "      <td>...</td>\n",
       "      <td>2016.0</td>\n",
       "      <td>Economy, Jobs, Federal Budget, Taxes, Families</td>\n",
       "      <td>Donald Trump, Hillary Clinton</td>\n",
       "      <td>campaign</td>\n",
       "      <td>mixed</td>\n",
       "      <td>2016-09-12 14:49:52</td>\n",
       "      <td>NV</td>\n",
       "      <td>2016-09-09 11:44:15</td>\n",
       "      <td>11</td>\n",
       "      <td>2016-09-09 11:44:45</td>\n",
       "    </tr>\n",
       "    <tr>\n",
       "      <th>4233</th>\n",
       "      <td>5545</td>\n",
       "      <td>5183</td>\n",
       "      <td>KVVU</td>\n",
       "      <td>Las Vegas, NV</td>\n",
       "      <td>FOX5 News This Morning</td>\n",
       "      <td>news</td>\n",
       "      <td>2016-09-09 11:57:48</td>\n",
       "      <td>2016-09-09 11:58:18</td>\n",
       "      <td>PolAd_HillaryClinton_DonaldTrump_o5dtl</td>\n",
       "      <td>https://archive.org/embed/PolAd_HillaryClinton...</td>\n",
       "      <td>...</td>\n",
       "      <td>2016.0</td>\n",
       "      <td>Economy, Jobs, Federal Budget, Taxes, Families</td>\n",
       "      <td>Donald Trump, Hillary Clinton</td>\n",
       "      <td>campaign</td>\n",
       "      <td>mixed</td>\n",
       "      <td>2016-09-12 14:49:52</td>\n",
       "      <td>NV</td>\n",
       "      <td>2016-09-09 11:57:48</td>\n",
       "      <td>11</td>\n",
       "      <td>2016-09-09 11:58:18</td>\n",
       "    </tr>\n",
       "    <tr>\n",
       "      <th>...</th>\n",
       "      <td>...</td>\n",
       "      <td>...</td>\n",
       "      <td>...</td>\n",
       "      <td>...</td>\n",
       "      <td>...</td>\n",
       "      <td>...</td>\n",
       "      <td>...</td>\n",
       "      <td>...</td>\n",
       "      <td>...</td>\n",
       "      <td>...</td>\n",
       "      <td>...</td>\n",
       "      <td>...</td>\n",
       "      <td>...</td>\n",
       "      <td>...</td>\n",
       "      <td>...</td>\n",
       "      <td>...</td>\n",
       "      <td>...</td>\n",
       "      <td>...</td>\n",
       "      <td>...</td>\n",
       "      <td>...</td>\n",
       "      <td>...</td>\n",
       "    </tr>\n",
       "    <tr>\n",
       "      <th>362235</th>\n",
       "      <td>462096</td>\n",
       "      <td>6678</td>\n",
       "      <td>WMUR</td>\n",
       "      <td>Boston, MA/Manchester, NH</td>\n",
       "      <td>News 9 This Morning</td>\n",
       "      <td>news</td>\n",
       "      <td>2016-10-02 11:15:29</td>\n",
       "      <td>2016-10-02 11:15:59</td>\n",
       "      <td>PolAd_DonaldTrump_i3wuo</td>\n",
       "      <td>https://archive.org/embed/PolAd_DonaldTrump_i3wuo</td>\n",
       "      <td>...</td>\n",
       "      <td>2016.0</td>\n",
       "      <td>Women, Children, Jobs, Families, Taxes</td>\n",
       "      <td>Donald Trump</td>\n",
       "      <td>campaign</td>\n",
       "      <td>pro</td>\n",
       "      <td>2016-11-17 05:41:15</td>\n",
       "      <td>NH</td>\n",
       "      <td>2016-10-02 11:15:29</td>\n",
       "      <td>11</td>\n",
       "      <td>2016-10-02 11:15:59</td>\n",
       "    </tr>\n",
       "    <tr>\n",
       "      <th>362236</th>\n",
       "      <td>462097</td>\n",
       "      <td>6678</td>\n",
       "      <td>WMUR</td>\n",
       "      <td>Boston, MA/Manchester, NH</td>\n",
       "      <td>News 9 This Morning</td>\n",
       "      <td>news</td>\n",
       "      <td>2016-10-02 10:55:04</td>\n",
       "      <td>2016-10-02 10:55:34</td>\n",
       "      <td>PolAd_DonaldTrump_i3wuo</td>\n",
       "      <td>https://archive.org/embed/PolAd_DonaldTrump_i3wuo</td>\n",
       "      <td>...</td>\n",
       "      <td>2016.0</td>\n",
       "      <td>Women, Children, Jobs, Families, Taxes</td>\n",
       "      <td>Donald Trump</td>\n",
       "      <td>campaign</td>\n",
       "      <td>pro</td>\n",
       "      <td>2016-11-17 05:41:15</td>\n",
       "      <td>NH</td>\n",
       "      <td>2016-10-02 10:55:04</td>\n",
       "      <td>10</td>\n",
       "      <td>2016-10-02 10:55:34</td>\n",
       "    </tr>\n",
       "    <tr>\n",
       "      <th>362237</th>\n",
       "      <td>462098</td>\n",
       "      <td>6678</td>\n",
       "      <td>WMUR</td>\n",
       "      <td>Boston, MA/Manchester, NH</td>\n",
       "      <td>News 9 This Morning</td>\n",
       "      <td>news</td>\n",
       "      <td>2016-10-02 10:23:18</td>\n",
       "      <td>2016-10-02 10:23:48</td>\n",
       "      <td>PolAd_DonaldTrump_i3wuo</td>\n",
       "      <td>https://archive.org/embed/PolAd_DonaldTrump_i3wuo</td>\n",
       "      <td>...</td>\n",
       "      <td>2016.0</td>\n",
       "      <td>Women, Children, Jobs, Families, Taxes</td>\n",
       "      <td>Donald Trump</td>\n",
       "      <td>campaign</td>\n",
       "      <td>pro</td>\n",
       "      <td>2016-11-17 05:41:15</td>\n",
       "      <td>NH</td>\n",
       "      <td>2016-10-02 10:23:18</td>\n",
       "      <td>10</td>\n",
       "      <td>2016-10-02 10:23:48</td>\n",
       "    </tr>\n",
       "    <tr>\n",
       "      <th>363098</th>\n",
       "      <td>462984</td>\n",
       "      <td>7349</td>\n",
       "      <td>WMUR</td>\n",
       "      <td>Boston, MA/Manchester, NH</td>\n",
       "      <td>News 9 This Morning</td>\n",
       "      <td>news</td>\n",
       "      <td>2016-10-30 10:58:47</td>\n",
       "      <td>2016-10-30 10:59:17</td>\n",
       "      <td>PolAd_HillaryClinton_DonaldTrump_o35rq</td>\n",
       "      <td>https://archive.org/embed/PolAd_HillaryClinton...</td>\n",
       "      <td>...</td>\n",
       "      <td>2016.0</td>\n",
       "      <td>Taxes, Candidate Biography, Terrorism, Jobs</td>\n",
       "      <td>Donald Trump, Hillary Clinton</td>\n",
       "      <td>campaign</td>\n",
       "      <td>mixed</td>\n",
       "      <td>2016-11-17 07:40:40</td>\n",
       "      <td>NH</td>\n",
       "      <td>2016-10-30 10:58:47</td>\n",
       "      <td>10</td>\n",
       "      <td>2016-10-30 10:59:17</td>\n",
       "    </tr>\n",
       "    <tr>\n",
       "      <th>363104</th>\n",
       "      <td>462990</td>\n",
       "      <td>7349</td>\n",
       "      <td>WMUR</td>\n",
       "      <td>Boston, MA/Manchester, NH</td>\n",
       "      <td>News 9 This Morning</td>\n",
       "      <td>news</td>\n",
       "      <td>2016-10-29 10:41:30</td>\n",
       "      <td>2016-10-29 10:42:00</td>\n",
       "      <td>PolAd_HillaryClinton_DonaldTrump_o35rq</td>\n",
       "      <td>https://archive.org/embed/PolAd_HillaryClinton...</td>\n",
       "      <td>...</td>\n",
       "      <td>2016.0</td>\n",
       "      <td>Taxes, Candidate Biography, Terrorism, Jobs</td>\n",
       "      <td>Donald Trump, Hillary Clinton</td>\n",
       "      <td>campaign</td>\n",
       "      <td>mixed</td>\n",
       "      <td>2016-11-17 07:40:40</td>\n",
       "      <td>NH</td>\n",
       "      <td>2016-10-29 10:41:30</td>\n",
       "      <td>10</td>\n",
       "      <td>2016-10-29 10:42:00</td>\n",
       "    </tr>\n",
       "  </tbody>\n",
       "</table>\n",
       "<p>9060 rows × 23 columns</p>\n",
       "</div>"
      ],
      "text/plain": [
       "            id  wp_identifier network                          location  \\\n",
       "4228      5540           5183    KTNV                     Las Vegas, NV   \n",
       "4229      5541           5183    WNCN  Raleigh-Durham-Fayetteville,  NC   \n",
       "4230      5542           5183    KSNV                     Las Vegas, NV   \n",
       "4231      5543           5183    KSNV                     Las Vegas, NV   \n",
       "4233      5545           5183    KVVU                     Las Vegas, NV   \n",
       "...        ...            ...     ...                               ...   \n",
       "362235  462096           6678    WMUR         Boston, MA/Manchester, NH   \n",
       "362236  462097           6678    WMUR         Boston, MA/Manchester, NH   \n",
       "362237  462098           6678    WMUR         Boston, MA/Manchester, NH   \n",
       "363098  462984           7349    WMUR         Boston, MA/Manchester, NH   \n",
       "363104  462990           7349    WMUR         Boston, MA/Manchester, NH   \n",
       "\n",
       "                             program program_type           start_time  \\\n",
       "4228                  World News Now         news  2016-09-09 09:59:13   \n",
       "4229    North Carolina News at 500PM         news  2016-08-30 21:49:29   \n",
       "4230               News 3 Live Today         news  2016-09-09 11:58:05   \n",
       "4231               News 3 Live Today         news  2016-09-09 11:44:15   \n",
       "4233          FOX5 News This Morning         news  2016-09-09 11:57:48   \n",
       "...                              ...          ...                  ...   \n",
       "362235           News 9 This Morning         news  2016-10-02 11:15:29   \n",
       "362236           News 9 This Morning         news  2016-10-02 10:55:04   \n",
       "362237           News 9 This Morning         news  2016-10-02 10:23:18   \n",
       "363098           News 9 This Morning         news  2016-10-30 10:58:47   \n",
       "363104           News 9 This Morning         news  2016-10-29 10:41:30   \n",
       "\n",
       "                   end_time                              archive_id  \\\n",
       "4228    2016-09-09 09:59:43  PolAd_HillaryClinton_DonaldTrump_o5dtl   \n",
       "4229    2016-08-30 21:49:59  PolAd_HillaryClinton_DonaldTrump_o5dtl   \n",
       "4230    2016-09-09 11:58:35  PolAd_HillaryClinton_DonaldTrump_o5dtl   \n",
       "4231    2016-09-09 11:44:45  PolAd_HillaryClinton_DonaldTrump_o5dtl   \n",
       "4233    2016-09-09 11:58:18  PolAd_HillaryClinton_DonaldTrump_o5dtl   \n",
       "...                     ...                                     ...   \n",
       "362235  2016-10-02 11:15:59                 PolAd_DonaldTrump_i3wuo   \n",
       "362236  2016-10-02 10:55:34                 PolAd_DonaldTrump_i3wuo   \n",
       "362237  2016-10-02 10:23:48                 PolAd_DonaldTrump_i3wuo   \n",
       "363098  2016-10-30 10:59:17  PolAd_HillaryClinton_DonaldTrump_o35rq   \n",
       "363104  2016-10-29 10:42:00  PolAd_HillaryClinton_DonaldTrump_o35rq   \n",
       "\n",
       "                                                embed_url  ...   cycle  \\\n",
       "4228    https://archive.org/embed/PolAd_HillaryClinton...  ...  2016.0   \n",
       "4229    https://archive.org/embed/PolAd_HillaryClinton...  ...  2016.0   \n",
       "4230    https://archive.org/embed/PolAd_HillaryClinton...  ...  2016.0   \n",
       "4231    https://archive.org/embed/PolAd_HillaryClinton...  ...  2016.0   \n",
       "4233    https://archive.org/embed/PolAd_HillaryClinton...  ...  2016.0   \n",
       "...                                                   ...  ...     ...   \n",
       "362235  https://archive.org/embed/PolAd_DonaldTrump_i3wuo  ...  2016.0   \n",
       "362236  https://archive.org/embed/PolAd_DonaldTrump_i3wuo  ...  2016.0   \n",
       "362237  https://archive.org/embed/PolAd_DonaldTrump_i3wuo  ...  2016.0   \n",
       "363098  https://archive.org/embed/PolAd_HillaryClinton...  ...  2016.0   \n",
       "363104  https://archive.org/embed/PolAd_HillaryClinton...  ...  2016.0   \n",
       "\n",
       "                                              subjects  \\\n",
       "4228    Economy, Jobs, Federal Budget, Taxes, Families   \n",
       "4229    Economy, Jobs, Federal Budget, Taxes, Families   \n",
       "4230    Economy, Jobs, Federal Budget, Taxes, Families   \n",
       "4231    Economy, Jobs, Federal Budget, Taxes, Families   \n",
       "4233    Economy, Jobs, Federal Budget, Taxes, Families   \n",
       "...                                                ...   \n",
       "362235          Women, Children, Jobs, Families, Taxes   \n",
       "362236          Women, Children, Jobs, Families, Taxes   \n",
       "362237          Women, Children, Jobs, Families, Taxes   \n",
       "363098     Taxes, Candidate Biography, Terrorism, Jobs   \n",
       "363104     Taxes, Candidate Biography, Terrorism, Jobs   \n",
       "\n",
       "                           candidates      type message         date_created  \\\n",
       "4228    Donald Trump, Hillary Clinton  campaign   mixed  2016-09-12 14:49:52   \n",
       "4229    Donald Trump, Hillary Clinton  campaign   mixed  2016-09-12 14:49:52   \n",
       "4230    Donald Trump, Hillary Clinton  campaign   mixed  2016-09-12 14:49:52   \n",
       "4231    Donald Trump, Hillary Clinton  campaign   mixed  2016-09-12 14:49:52   \n",
       "4233    Donald Trump, Hillary Clinton  campaign   mixed  2016-09-12 14:49:52   \n",
       "...                               ...       ...     ...                  ...   \n",
       "362235                   Donald Trump  campaign     pro  2016-11-17 05:41:15   \n",
       "362236                   Donald Trump  campaign     pro  2016-11-17 05:41:15   \n",
       "362237                   Donald Trump  campaign     pro  2016-11-17 05:41:15   \n",
       "363098  Donald Trump, Hillary Clinton  campaign   mixed  2016-11-17 07:40:40   \n",
       "363104  Donald Trump, Hillary Clinton  campaign   mixed  2016-11-17 07:40:40   \n",
       "\n",
       "       state     converted_start hour       converted_end  \n",
       "4228      NV 2016-09-09 09:59:13    9 2016-09-09 09:59:43  \n",
       "4229      NC 2016-08-30 21:49:29   21 2016-08-30 21:49:59  \n",
       "4230      NV 2016-09-09 11:58:05   11 2016-09-09 11:58:35  \n",
       "4231      NV 2016-09-09 11:44:15   11 2016-09-09 11:44:45  \n",
       "4233      NV 2016-09-09 11:57:48   11 2016-09-09 11:58:18  \n",
       "...      ...                 ...  ...                 ...  \n",
       "362235    NH 2016-10-02 11:15:29   11 2016-10-02 11:15:59  \n",
       "362236    NH 2016-10-02 10:55:04   10 2016-10-02 10:55:34  \n",
       "362237    NH 2016-10-02 10:23:18   10 2016-10-02 10:23:48  \n",
       "363098    NH 2016-10-30 10:58:47   10 2016-10-30 10:59:17  \n",
       "363104    NH 2016-10-29 10:41:30   10 2016-10-29 10:42:00  \n",
       "\n",
       "[9060 rows x 23 columns]"
      ]
     },
     "execution_count": 61,
     "metadata": {},
     "output_type": "execute_result"
    }
   ],
   "source": [
    "pres_airing[pres_airing.program.str.contains('News')]"
   ]
  },
  {
   "cell_type": "code",
   "execution_count": 62,
   "metadata": {},
   "outputs": [
    {
     "data": {
      "text/plain": [
       "Today                                     711\n",
       "CBS This Morning                          425\n",
       "Good Morning America                      383\n",
       "The Tonight Show Starring Jimmy Fallon    289\n",
       "The Late Show With Stephen Colbert        265\n",
       "Jimmy Kimmel Live                         235\n",
       "ET Entertainment Tonight                  226\n",
       "7 News Today in New England               173\n",
       "NBC Nightly News With Lester Holt         164\n",
       "FOX5 News This Morning                    163\n",
       "CBS Evening News With Scott Pelley        129\n",
       "News 3 Live Today                         127\n",
       "News 9 Daybreak                           119\n",
       "ABC World News With David Muir            115\n",
       "FOX 13 600 News                           111\n",
       "Eyewitness News at 6                      109\n",
       "FOX 25 Morning News                       104\n",
       "Newscenter 5 Eyeopener                    104\n",
       "8 News Now Good Day                       103\n",
       "FOX 13 1000 News                          102\n",
       "Good Day Philadelphia at 7A               102\n",
       "WBZ This Morning                          101\n",
       "Nightline                                  97\n",
       "FOX 13 500 News                            95\n",
       "WBZ News                                   94\n",
       "Fox 8 News in the Morning                  93\n",
       "FOX 29 News at 5                           91\n",
       "Good Morning America Weekend Edition       90\n",
       "Right This Minute                          87\n",
       "Meet the Press                             85\n",
       "Good Day Tampa Bay 8AM                     83\n",
       "Fox News Sunday With Chris Wallace         82\n",
       "Action News 11pm                           79\n",
       "Good Day Tampa Bay 6AM                     79\n",
       "FOX5 News at 1000pm                        78\n",
       "Good Day Tampa Bay 7AM                     78\n",
       "Fox 8 News at 6PM                          77\n",
       "Good Day Tampa Bay 5AM                     73\n",
       "Good Morning Las Vegas 6AM                 72\n",
       "Fox 29 News at 10                          70\n",
       "This Week With George Stephanopoulos       70\n",
       "9 News at 4 O Clock                        68\n",
       "NBC10 News at 11pm                         65\n",
       "News Ch8 Today at 6AM                      63\n",
       "Eyewitness News at 11                      63\n",
       "Eyewitness News at 5                       63\n",
       "Good Morning Las Vegas 5AM                 62\n",
       "Action News at 11PM                        61\n",
       "9 News at 6am                              59\n",
       "News 9 at Five                             59\n",
       "Name: program, dtype: int64"
      ]
     },
     "execution_count": 62,
     "metadata": {},
     "output_type": "execute_result"
    }
   ],
   "source": [
    "pres_airing[pres_airing.program_type =='news'].program.value_counts().head(50)"
   ]
  },
  {
   "cell_type": "markdown",
   "metadata": {},
   "source": [
    "# Analysis "
   ]
  },
  {
   "cell_type": "markdown",
   "metadata": {},
   "source": [
    "### General "
   ]
  },
  {
   "cell_type": "code",
   "execution_count": 63,
   "metadata": {},
   "outputs": [
    {
     "data": {
      "text/plain": [
       "Text(0, 0.5, 'Frequency')"
      ]
     },
     "execution_count": 63,
     "metadata": {},
     "output_type": "execute_result"
    },
    {
     "data": {
      "image/png": "[encoded data removed]",
      "text/plain": [
       "<Figure size 432x288 with 1 Axes>"
      ]
     },
     "metadata": {
      "needs_background": "light"
     },
     "output_type": "display_data"
    }
   ],
   "source": [
    "pres_airing.groupby('program_type').program_type.count().plot.bar()\n",
    "plt.title(\"Count Of Program Types\")\n",
    "plt.xlabel(\"Program Type\")\n",
    "plt.ylabel(\"Frequency\")"
   ]
  },
  {
   "cell_type": "code",
   "execution_count": 64,
   "metadata": {},
   "outputs": [],
   "source": [
    "# def puppy(df):\n",
    "#     return df.program_type.count()"
   ]
  },
  {
   "cell_type": "code",
   "execution_count": 65,
   "metadata": {},
   "outputs": [],
   "source": [
    "# pres_airing.groupby(['state','program_type']).state.count().sort_values(ascending = False).plot.bar(stacked=True)"
   ]
  },
  {
   "cell_type": "code",
   "execution_count": null,
   "metadata": {},
   "outputs": [],
   "source": []
  },
  {
   "cell_type": "code",
   "execution_count": 66,
   "metadata": {},
   "outputs": [
    {
     "data": {
      "text/plain": [
       "Text(0, 0.5, 'Frequency')"
      ]
     },
     "execution_count": 66,
     "metadata": {},
     "output_type": "execute_result"
    },
    {
     "data": {
      "image/png": "[encoded data removed]",
      "text/plain": [
       "<Figure size 432x288 with 1 Axes>"
      ]
     },
     "metadata": {
      "needs_background": "light"
     },
     "output_type": "display_data"
    }
   ],
   "source": [
    "pres_airing.groupby('state').state.count().sort_values(ascending = False).plot.bar()\n",
    "plt.title(\"Count of Ads shown by State\")\n",
    "plt.xlabel(\"State\")\n",
    "plt.ylabel(\"Frequency\")"
   ]
  },
  {
   "cell_type": "code",
   "execution_count": 67,
   "metadata": {},
   "outputs": [],
   "source": [
    "def normalized(df):\n",
    "    return df.program_type.value_counts(normalize = True).sort_values(ascending = True)"
   ]
  },
  {
   "cell_type": "code",
   "execution_count": 68,
   "metadata": {},
   "outputs": [
    {
     "data": {
      "text/plain": [
       "<AxesSubplot:xlabel='state'>"
      ]
     },
     "execution_count": 68,
     "metadata": {},
     "output_type": "execute_result"
    },
    {
     "data": {
      "image/png": "[encoded data removed]",
      "text/plain": [
       "<Figure size 432x288 with 1 Axes>"
      ]
     },
     "metadata": {
      "needs_background": "light"
     },
     "output_type": "display_data"
    }
   ],
   "source": [
    "pres_airing.groupby(['state']).apply(normalized).plot(kind='bar', stacked=True)"
   ]
  },
  {
   "cell_type": "code",
   "execution_count": 69,
   "metadata": {},
   "outputs": [
    {
     "data": {
      "text/plain": [
       "<matplotlib.legend.Legend at 0x7fd76f597430>"
      ]
     },
     "execution_count": 69,
     "metadata": {},
     "output_type": "execute_result"
    },
    {
     "data": {
      "image/png": "[encoded data removed]",
      "text/plain": [
       "<Figure size 432x288 with 1 Axes>"
      ]
     },
     "metadata": {
      "needs_background": "light"
     },
     "output_type": "display_data"
    }
   ],
   "source": [
    "pres_airing.groupby(['state']).apply(normalized).plot(kind='bar', stacked=True)\n",
    "plt.title(\"Ratio of Program Type by State\")\n",
    "plt.xlabel(\"State\")\n",
    "plt.ylabel(\"Ratio\")\n",
    "plt.legend(loc='center left', bbox_to_anchor=(1.0, 0.5))"
   ]
  },
  {
   "cell_type": "code",
   "execution_count": 70,
   "metadata": {},
   "outputs": [
    {
     "data": {
      "text/plain": [
       "state  program_type  state\n",
       "PA     news          PA       2172\n",
       "FL     news          FL       2149\n",
       "NV     news          NV       1882\n",
       "OH     news          OH       1598\n",
       "NH     news          NH       1587\n",
       "CO     news          CO       1485\n",
       "WI     news          WI       1042\n",
       "CO     not news      CO        990\n",
       "FL     not news      FL        825\n",
       "PA     not news      PA        698\n",
       "OH     not news      OH        694\n",
       "NC     news          NC        674\n",
       "NV     not news      NV        671\n",
       "IA     news          IA        649\n",
       "NC     not news      NC        586\n",
       "IA     not news      IA        571\n",
       "NH     not news      NH        406\n",
       "WI     not news      WI        399\n",
       "AZ     news          AZ        127\n",
       "       not news      AZ         43\n",
       "Name: state, dtype: int64"
      ]
     },
     "execution_count": 70,
     "metadata": {},
     "output_type": "execute_result"
    }
   ],
   "source": [
    "pres_airing.groupby(['state', 'program_type']).state.value_counts().sort_values(ascending = False)\n",
    "# df.reindex(sort_ix, level=0).unstack().plot.bar(stacked=True)"
   ]
  },
  {
   "cell_type": "code",
   "execution_count": 71,
   "metadata": {},
   "outputs": [
    {
     "data": {
      "text/plain": [
       "<matplotlib.legend.Legend at 0x7fd6f832c460>"
      ]
     },
     "execution_count": 71,
     "metadata": {},
     "output_type": "execute_result"
    },
    {
     "data": {
      "image/png": "[encoded data removed]",
      "text/plain": [
       "<Figure size 432x288 with 1 Axes>"
      ]
     },
     "metadata": {
      "needs_background": "light"
     },
     "output_type": "display_data"
    }
   ],
   "source": [
    "pres_airing.groupby(['state', 'program_type']).state.count().sort_values(ascending = True).unstack().plot(kind='bar', stacked=True)\n",
    "plt.title(\"Count of Ads shown by State\")\n",
    "plt.xlabel(\"State\")\n",
    "plt.ylabel(\"Frequency\")\n",
    "plt.legend(loc='center left', bbox_to_anchor=(1.0, 0.5))"
   ]
  },
  {
   "cell_type": "code",
   "execution_count": 72,
   "metadata": {},
   "outputs": [
    {
     "data": {
      "text/plain": [
       "Text(0, 0.5, 'Frequency')"
      ]
     },
     "execution_count": 72,
     "metadata": {},
     "output_type": "execute_result"
    },
    {
     "data": {
      "image/png": "[encoded data removed]",
      "text/plain": [
       "<Figure size 432x288 with 1 Axes>"
      ]
     },
     "metadata": {
      "needs_background": "light"
     },
     "output_type": "display_data"
    }
   ],
   "source": [
    "pres_airing.groupby(['hour']).hour.count().plot(kind='bar', stacked=True)\n",
    "# plt.legend(loc='center left', bbox_to_anchor=(1.0, 0.5))\n",
    "plt.title(\"Count of Ads by Hour of day\")\n",
    "plt.xlabel(\"Hour of Day\")\n",
    "plt.ylabel(\"Frequency\")"
   ]
  },
  {
   "cell_type": "code",
   "execution_count": 73,
   "metadata": {},
   "outputs": [
    {
     "data": {
      "text/plain": [
       "Text(0, 0.5, 'Frequency')"
      ]
     },
     "execution_count": 73,
     "metadata": {},
     "output_type": "execute_result"
    },
    {
     "data": {
      "image/png": "[encoded data removed]",
      "text/plain": [
       "<Figure size 432x288 with 1 Axes>"
      ]
     },
     "metadata": {
      "needs_background": "light"
     },
     "output_type": "display_data"
    }
   ],
   "source": [
    "pres_airing.groupby(['hour', 'program_type']).hour.count().sort_values(ascending = False).unstack().plot(kind='bar', stacked=True)\n",
    "plt.legend(loc='center left', bbox_to_anchor=(1.0, 0.5))\n",
    "plt.title(\"Count of Ads by Hour of day\")\n",
    "plt.xlabel(\"Hour of Day\")\n",
    "plt.ylabel(\"Frequency\")"
   ]
  },
  {
   "cell_type": "code",
   "execution_count": 74,
   "metadata": {},
   "outputs": [
    {
     "data": {
      "text/plain": [
       "(0.0, 1475.0)"
      ]
     },
     "execution_count": 74,
     "metadata": {},
     "output_type": "execute_result"
    },
    {
     "data": {
      "image/png": "[encoded data removed]",
      "text/plain": [
       "<Figure size 432x288 with 1 Axes>"
      ]
     },
     "metadata": {
      "needs_background": "light"
     },
     "output_type": "display_data"
    }
   ],
   "source": [
    "pres_airing[pres_airing.program_type =='news'].groupby('hour').hour.count().plot.bar()\n",
    "plt.title(\"Frequency by the hour of when it is show in the news\")\n",
    "plt.xlabel(\"Hour of Day\")\n",
    "plt.ylabel(\"Frequency\")\n",
    "plt.ylim(0, 1475)"
   ]
  },
  {
   "cell_type": "code",
   "execution_count": 75,
   "metadata": {},
   "outputs": [
    {
     "data": {
      "text/plain": [
       "(0.0, 1475.0)"
      ]
     },
     "execution_count": 75,
     "metadata": {},
     "output_type": "execute_result"
    },
    {
     "data": {
      "image/png": "[encoded data removed]",
      "text/plain": [
       "<Figure size 432x288 with 1 Axes>"
      ]
     },
     "metadata": {
      "needs_background": "light"
     },
     "output_type": "display_data"
    }
   ],
   "source": [
    "pres_airing[pres_airing.program_type =='not news'].groupby('hour').hour.count().plot.bar(color=['C1'])\n",
    "plt.title(\"Frequency by the hour of when it is show not in news\")\n",
    "plt.xlabel(\"Hour of Day\")\n",
    "plt.ylabel(\"Frequency\")\n",
    "plt.ylim(0, 1475)\n"
   ]
  },
  {
   "cell_type": "code",
   "execution_count": 76,
   "metadata": {},
   "outputs": [],
   "source": [
    "# pres_airing[(pres_airing.program_type =='not news') & (pres_airing.state == 'CA')].groupby('hour').hour.count().plot.bar()"
   ]
  },
  {
   "cell_type": "code",
   "execution_count": 77,
   "metadata": {},
   "outputs": [
    {
     "data": {
      "text/plain": [
       "<AxesSubplot:xlabel='hour'>"
      ]
     },
     "execution_count": 77,
     "metadata": {},
     "output_type": "execute_result"
    },
    {
     "data": {
      "image/png": "[encoded data removed]",
      "text/plain": [
       "<Figure size 432x288 with 1 Axes>"
      ]
     },
     "metadata": {
      "needs_background": "light"
     },
     "output_type": "display_data"
    }
   ],
   "source": [
    "pres_airing[(pres_airing.program_type =='not news') & (pres_airing.state == 'PA')].groupby('hour').hour.count().plot.bar()"
   ]
  },
  {
   "cell_type": "code",
   "execution_count": 78,
   "metadata": {},
   "outputs": [
    {
     "data": {
      "text/plain": [
       "<AxesSubplot:xlabel='hour'>"
      ]
     },
     "execution_count": 78,
     "metadata": {},
     "output_type": "execute_result"
    },
    {
     "data": {
      "image/png": "[encoded data removed]",
      "text/plain": [
       "<Figure size 432x288 with 1 Axes>"
      ]
     },
     "metadata": {
      "needs_background": "light"
     },
     "output_type": "display_data"
    }
   ],
   "source": [
    "pres_airing[(pres_airing.program_type =='not news') & (pres_airing.state == 'FL')].groupby('hour').hour.count().plot.bar()"
   ]
  },
  {
   "cell_type": "code",
   "execution_count": 79,
   "metadata": {},
   "outputs": [
    {
     "data": {
      "text/plain": [
       "<AxesSubplot:xlabel='hour'>"
      ]
     },
     "execution_count": 79,
     "metadata": {},
     "output_type": "execute_result"
    },
    {
     "data": {
      "image/png": "[encoded data removed]",
      "text/plain": [
       "<Figure size 432x288 with 1 Axes>"
      ]
     },
     "metadata": {
      "needs_background": "light"
     },
     "output_type": "display_data"
    }
   ],
   "source": [
    "pres_airing[(pres_airing.program_type =='news') & (pres_airing.state == 'FL')].groupby('hour').hour.count().plot.bar()"
   ]
  },
  {
   "cell_type": "code",
   "execution_count": 80,
   "metadata": {},
   "outputs": [],
   "source": [
    "def top_10_hours(data):\n",
    "    return data.hour.value_counts().sort_values(ascending = False).head(2)"
   ]
  },
  {
   "cell_type": "code",
   "execution_count": 81,
   "metadata": {},
   "outputs": [
    {
     "data": {
      "text/plain": [
       "<matplotlib.legend.Legend at 0x7fd7189787f0>"
      ]
     },
     "execution_count": 81,
     "metadata": {},
     "output_type": "execute_result"
    },
    {
     "data": {
      "image/png": "[encoded data removed]",
      "text/plain": [
       "<Figure size 432x288 with 1 Axes>"
      ]
     },
     "metadata": {
      "needs_background": "light"
     },
     "output_type": "display_data"
    }
   ],
   "source": [
    "airing_top = pres_airing.groupby('state'). apply(top_10_hours)\n",
    "airing_top.unstack().plot(kind='bar', stacked=True)\n",
    "plt.title(\"Top 2 hours by each state\")\n",
    "plt.xlabel(\"State\")\n",
    "plt.legend(loc='center left', bbox_to_anchor=(1.0, 0.5))"
   ]
  },
  {
   "cell_type": "code",
   "execution_count": 82,
   "metadata": {},
   "outputs": [
    {
     "data": {
      "text/plain": [
       "<AxesSubplot:xlabel='state'>"
      ]
     },
     "execution_count": 82,
     "metadata": {},
     "output_type": "execute_result"
    },
    {
     "data": {
      "image/png": "[encoded data removed]",
      "text/plain": [
       "<Figure size 432x288 with 1 Axes>"
      ]
     },
     "metadata": {
      "needs_background": "light"
     },
     "output_type": "display_data"
    }
   ],
   "source": [
    "news_airing_top = pres_airing[pres_airing.program_type =='news'].groupby('state'). apply(top_10_hours)\n",
    "news_airing_top.unstack().plot(kind='bar', stacked=True)"
   ]
  },
  {
   "cell_type": "code",
   "execution_count": 83,
   "metadata": {},
   "outputs": [
    {
     "data": {
      "text/plain": [
       "<AxesSubplot:xlabel='state'>"
      ]
     },
     "execution_count": 83,
     "metadata": {},
     "output_type": "execute_result"
    },
    {
     "data": {
      "image/png": "[encoded data removed]",
      "text/plain": [
       "<Figure size 432x288 with 1 Axes>"
      ]
     },
     "metadata": {
      "needs_background": "light"
     },
     "output_type": "display_data"
    }
   ],
   "source": [
    "not_news_airing_top = pres_airing[pres_airing.program_type =='not news'].groupby('state'). apply(top_10_hours)\n",
    "not_news_airing_top.unstack().plot(kind='bar', stacked=True)"
   ]
  },
  {
   "cell_type": "code",
   "execution_count": 84,
   "metadata": {},
   "outputs": [
    {
     "data": {
      "text/plain": [
       "23    95\n",
       "3     84\n",
       "Name: hour, dtype: int64"
      ]
     },
     "execution_count": 84,
     "metadata": {},
     "output_type": "execute_result"
    }
   ],
   "source": [
    "dog = top_10_hours(pres_airing[(pres_airing.state == 'IA')& (pres_airing.program_type == 'news')])\n",
    "dog"
   ]
  },
  {
   "cell_type": "code",
   "execution_count": 85,
   "metadata": {},
   "outputs": [
    {
     "data": {
      "text/plain": [
       "20    62\n",
       "19    57\n",
       "Name: hour, dtype: int64"
      ]
     },
     "execution_count": 85,
     "metadata": {},
     "output_type": "execute_result"
    }
   ],
   "source": [
    "cat = top_10_hours(pres_airing[(pres_airing.state == 'IA')& (pres_airing.program_type == 'not news')])\n",
    "cat"
   ]
  }
 ],
 "metadata": {
  "kernelspec": {
   "display_name": "Python 3.9.12 ('base')",
   "language": "python",
   "name": "python3"
  },
  "language_info": {
   "codemirror_mode": {
    "name": "ipython",
    "version": 3
   },
   "file_extension": ".py",
   "mimetype": "text/x-python",
   "name": "python",
   "nbconvert_exporter": "python",
   "pygments_lexer": "ipython3",
   "version": "3.9.12"
  },
  "orig_nbformat": 4,
  "vscode": {
   "interpreter": {
    "hash": "40d3a090f54c6569ab1632332b64b2c03c39dcf918b08424e98f38b5ae0af88f"
   }
  }
 },
 "nbformat": 4,
 "nbformat_minor": 2
}
